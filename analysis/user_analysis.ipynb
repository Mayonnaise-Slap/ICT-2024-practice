{
 "cells": [
  {
   "cell_type": "code",
   "execution_count": 1,
   "id": "initial_id",
   "metadata": {
    "collapsed": true,
    "ExecuteTime": {
     "end_time": "2024-02-12T13:03:46.427315Z",
     "start_time": "2024-02-12T13:03:46.419436Z"
    }
   },
   "outputs": [],
   "source": [
    "import pandas as pd\n",
    "import seaborn as sns\n",
    "import matplotlib.pyplot as plt"
   ]
  },
  {
   "cell_type": "code",
   "outputs": [],
   "source": [
    "user_data = pd.read_json('../data/users.json')"
   ],
   "metadata": {
    "collapsed": false,
    "ExecuteTime": {
     "end_time": "2024-02-12T13:03:46.672860Z",
     "start_time": "2024-02-12T13:03:46.618266Z"
    }
   },
   "id": "28d1ee9b26a29435",
   "execution_count": 2
  },
  {
   "cell_type": "code",
   "outputs": [
    {
     "data": {
      "text/plain": "Работает в\nOpen Data Science                                                                             63\nЯндекс                                                                                        50\nVK                                                                                            29\nRUVDS.com                                                                                     20\nTINKOFF                                                                                       18\n                                                                                              ..\nЯндекс\\n      \\n        ЮMoney\\n      \\n        Яндекс Практикум                               1\nГазпромбанк                                                                                    1\nGlobalSign                                                                                     1\nITSumma                                                                                        1\nХабр\\n      \\n        Хабр Карьера\\n      \\n        Хабр Фриланс\\n      \\n        Хабр Q&A     1\nName: count, Length: 141, dtype: int64"
     },
     "execution_count": 3,
     "metadata": {},
     "output_type": "execute_result"
    }
   ],
   "source": [
    "user_data[\"Работает в\"].value_counts()"
   ],
   "metadata": {
    "collapsed": false,
    "ExecuteTime": {
     "end_time": "2024-02-12T13:03:46.825452Z",
     "start_time": "2024-02-12T13:03:46.821763Z"
    }
   },
   "id": "14da30525ff41876",
   "execution_count": 3
  },
  {
   "cell_type": "code",
   "outputs": [
    {
     "data": {
      "text/plain": "Состоит в хабах\nDIY                           2476\nAR and VR                     1871\n*nix                          1833\nIT-companies                  1818\nBig Data                      1710\n                              ... \nCRM-системы                      1\nZig                              1\nDevelopment for Office 365       1\nOperating systems                1\nPhalcon                          1\nName: count, Length: 444, dtype: int64"
     },
     "execution_count": 4,
     "metadata": {},
     "output_type": "execute_result"
    }
   ],
   "source": [
    "user_data[\"Состоит в хабах\"].dropna().explode().value_counts()"
   ],
   "metadata": {
    "collapsed": false,
    "ExecuteTime": {
     "end_time": "2024-02-12T13:03:47.082248Z",
     "start_time": "2024-02-12T13:03:47.075648Z"
    }
   },
   "id": "87169e7887f1ee2b",
   "execution_count": 4
  },
  {
   "cell_type": "code",
   "outputs": [
    {
     "data": {
      "text/plain": "              tag  karma  rating    В рейтинге Зарегистрирован  \\\n6173    @nivorbud    3.0     0.2       2 173-й      2014-10-30   \n5619     @tunelix    3.0     0.0  Не участвует      2007-05-09   \n2594    @alex4321   17.0     0.0  Не участвует      2016-04-22   \n116     @YemSalat    0.0     0.0       3 497-й      2013-11-14   \n4921  @FunnyHouse    0.0     0.0  Не участвует      2017-09-02   \n\n                      Значки                                    Откуда  \\\n6173             Захабренный                                       NaN   \n5619             Захабренный                                       NaN   \n2594             Захабренный                                       NaN   \n116   Бета-тестер ▇▅▄▅▅▄ ▇▄▅                                       NaN   \n4921                     NaN  Москва, Москва и Московская обл., Россия   \n\n     Дата рождения                                    Состоит в хабах  \\\n6173           NaN  [Google Chrome, Algorithms, Web design, Websit...   \n5619           NaN  [Ajax, Assembler, C++, Canvas, CMS, CSS, Cubri...   \n2594    2004-06-21  [*nix, .NET, Accessibility, Apache, API, Big D...   \n116            NaN  [.NET, 1С-Bitrix, Accessibility, Action Script...   \n4921           NaN                    [Machine learning, Smart House]   \n\n                          Подписан на компании Работает в О себе  \\\n6173                                       NaN        NaN    NaN   \n5619                                  [Skyeng]        NaN    NaN   \n2594                                       NaN        NaN    NaN   \n116                                        NaN        NaN    NaN   \n4921  [Lamoda Tech, Open Data Science, Яндекс]        NaN    NaN   \n\n     Специализация Приглашена Пригласила на сайт  \n6173           NaN        NaN                NaN  \n5619           NaN        NaN                NaN  \n2594           NaN        NaN                NaN  \n116            NaN        NaN                NaN  \n4921           NaN        NaN                NaN  ",
      "text/html": "<div>\n<style scoped>\n    .dataframe tbody tr th:only-of-type {\n        vertical-align: middle;\n    }\n\n    .dataframe tbody tr th {\n        vertical-align: top;\n    }\n\n    .dataframe thead th {\n        text-align: right;\n    }\n</style>\n<table border=\"1\" class=\"dataframe\">\n  <thead>\n    <tr style=\"text-align: right;\">\n      <th></th>\n      <th>tag</th>\n      <th>karma</th>\n      <th>rating</th>\n      <th>В рейтинге</th>\n      <th>Зарегистрирован</th>\n      <th>Значки</th>\n      <th>Откуда</th>\n      <th>Дата рождения</th>\n      <th>Состоит в хабах</th>\n      <th>Подписан на компании</th>\n      <th>Работает в</th>\n      <th>О себе</th>\n      <th>Специализация</th>\n      <th>Приглашена</th>\n      <th>Пригласила на сайт</th>\n    </tr>\n  </thead>\n  <tbody>\n    <tr>\n      <th>6173</th>\n      <td>@nivorbud</td>\n      <td>3.0</td>\n      <td>0.2</td>\n      <td>2 173-й</td>\n      <td>2014-10-30</td>\n      <td>Захабренный</td>\n      <td>NaN</td>\n      <td>NaN</td>\n      <td>[Google Chrome, Algorithms, Web design, Websit...</td>\n      <td>NaN</td>\n      <td>NaN</td>\n      <td>NaN</td>\n      <td>NaN</td>\n      <td>NaN</td>\n      <td>NaN</td>\n    </tr>\n    <tr>\n      <th>5619</th>\n      <td>@tunelix</td>\n      <td>3.0</td>\n      <td>0.0</td>\n      <td>Не участвует</td>\n      <td>2007-05-09</td>\n      <td>Захабренный</td>\n      <td>NaN</td>\n      <td>NaN</td>\n      <td>[Ajax, Assembler, C++, Canvas, CMS, CSS, Cubri...</td>\n      <td>[Skyeng]</td>\n      <td>NaN</td>\n      <td>NaN</td>\n      <td>NaN</td>\n      <td>NaN</td>\n      <td>NaN</td>\n    </tr>\n    <tr>\n      <th>2594</th>\n      <td>@alex4321</td>\n      <td>17.0</td>\n      <td>0.0</td>\n      <td>Не участвует</td>\n      <td>2016-04-22</td>\n      <td>Захабренный</td>\n      <td>NaN</td>\n      <td>2004-06-21</td>\n      <td>[*nix, .NET, Accessibility, Apache, API, Big D...</td>\n      <td>NaN</td>\n      <td>NaN</td>\n      <td>NaN</td>\n      <td>NaN</td>\n      <td>NaN</td>\n      <td>NaN</td>\n    </tr>\n    <tr>\n      <th>116</th>\n      <td>@YemSalat</td>\n      <td>0.0</td>\n      <td>0.0</td>\n      <td>3 497-й</td>\n      <td>2013-11-14</td>\n      <td>Бета-тестер ▇▅▄▅▅▄ ▇▄▅</td>\n      <td>NaN</td>\n      <td>NaN</td>\n      <td>[.NET, 1С-Bitrix, Accessibility, Action Script...</td>\n      <td>NaN</td>\n      <td>NaN</td>\n      <td>NaN</td>\n      <td>NaN</td>\n      <td>NaN</td>\n      <td>NaN</td>\n    </tr>\n    <tr>\n      <th>4921</th>\n      <td>@FunnyHouse</td>\n      <td>0.0</td>\n      <td>0.0</td>\n      <td>Не участвует</td>\n      <td>2017-09-02</td>\n      <td>NaN</td>\n      <td>Москва, Москва и Московская обл., Россия</td>\n      <td>NaN</td>\n      <td>[Machine learning, Smart House]</td>\n      <td>[Lamoda Tech, Open Data Science, Яндекс]</td>\n      <td>NaN</td>\n      <td>NaN</td>\n      <td>NaN</td>\n      <td>NaN</td>\n      <td>NaN</td>\n    </tr>\n  </tbody>\n</table>\n</div>"
     },
     "execution_count": 5,
     "metadata": {},
     "output_type": "execute_result"
    }
   ],
   "source": [
    "user_data.sample(5)"
   ],
   "metadata": {
    "collapsed": false,
    "ExecuteTime": {
     "end_time": "2024-02-12T13:03:49.104641Z",
     "start_time": "2024-02-12T13:03:49.098724Z"
    }
   },
   "id": "e90f6401a582f114",
   "execution_count": 5
  },
  {
   "cell_type": "code",
   "outputs": [],
   "source": [],
   "metadata": {
    "collapsed": false,
    "is_executing": true
   },
   "id": "183a65ea78276829"
  }
 ],
 "metadata": {
  "kernelspec": {
   "display_name": "Python 3",
   "language": "python",
   "name": "python3"
  },
  "language_info": {
   "codemirror_mode": {
    "name": "ipython",
    "version": 2
   },
   "file_extension": ".py",
   "mimetype": "text/x-python",
   "name": "python",
   "nbconvert_exporter": "python",
   "pygments_lexer": "ipython2",
   "version": "2.7.6"
  }
 },
 "nbformat": 4,
 "nbformat_minor": 5
}
